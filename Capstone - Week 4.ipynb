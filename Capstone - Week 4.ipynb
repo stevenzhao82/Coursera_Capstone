{
 "cells": [
  {
   "cell_type": "markdown",
   "metadata": {},
   "source": [
    "## Introduction"
   ]
  },
  {
   "cell_type": "markdown",
   "metadata": {},
   "source": [
    "John is moving to Toronto next year because he will be studying in the University of Toronto. Now he is looking for a place to rent. However, he does not know which neighbourhood suits him.\n",
    "\n",
    "His search criteria are as below:\n",
    "\n",
    "- Close to the campus.\n",
    "- As a well-trained barista, he wants to find a part time job in a coffee shop while studying. If a neighbourhood has more coffee shops, he will have more chances to find a job.\n",
    "- He is not going to drive so he wants to live close to public transports, e.g. train station.\n",
    "\n",
    "The goal of the project is to identify neighbourhoods that meets John’s criteria. \n"
   ]
  },
  {
   "cell_type": "markdown",
   "metadata": {},
   "source": []
  }
 ],
 "metadata": {
  "kernelspec": {
   "display_name": "Python 3",
   "language": "python",
   "name": "python3"
  },
  "language_info": {
   "codemirror_mode": {
    "name": "ipython",
    "version": 3
   },
   "file_extension": ".py",
   "mimetype": "text/x-python",
   "name": "python",
   "nbconvert_exporter": "python",
   "pygments_lexer": "ipython3",
   "version": "3.7.4"
  }
 },
 "nbformat": 4,
 "nbformat_minor": 2
}
