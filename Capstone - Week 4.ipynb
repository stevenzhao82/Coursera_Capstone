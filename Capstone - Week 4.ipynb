{
 "cells": [
  {
   "cell_type": "markdown",
   "metadata": {},
   "source": [
    "## Introduction"
   ]
  },
  {
   "cell_type": "markdown",
   "metadata": {},
   "source": [
    "John is moving to Toronto next year because he will be studying in the University of Toronto. Now he is looking for a place to rent. However, he does not know which neighbourhood suits him.\n",
    "\n",
    "His search criteria are as below:\n",
    "\n",
    "- Close to the campus.\n",
    "- As a well-trained barista, he wants to find a part time job in a coffee shop while studying. If a neighbourhood has more coffee shops, he will have more chances to find a job.\n",
    "- He is not going to drive so he wants to live close to public transports, e.g. train station.\n",
    "\n",
    "The goal of the project is to identify neighbourhoods that meets John’s criteria. \n"
   ]
  },
  {
   "cell_type": "markdown",
   "metadata": {},
   "source": [
    "## Data"
   ]
  },
  {
   "cell_type": "markdown",
   "metadata": {},
   "source": [
    "In this project, following data will be used:\n",
    "\n",
    "- Toronto neighbourhoods: https://en.wikipedia.org/wiki/List_of_postal_codes_of_Canada:_M\n",
    "- Geographical coordinates: http://cocl.us/Geospatial_data\n",
    "- Venue data: will be retrieved Foursquare API by using following query https://api.foursquare.com/v2/venues/explore?&client_id={}&client_secret={}&v={}&ll={},{}&radius={}&limit={}\n",
    "\n",
    "The data will be merged as one dataframe representing neighbourhoods with coordinates, venue information and the distance from the University of Toronto. The dataframe will sorted using distance, and then filter out the neighbourhoods that do not match John’s criteria. The top 5 suburbs will be recommended to John."
   ]
  }
 ],
 "metadata": {
  "kernelspec": {
   "display_name": "Python 3",
   "language": "python",
   "name": "python3"
  },
  "language_info": {
   "codemirror_mode": {
    "name": "ipython",
    "version": 3
   },
   "file_extension": ".py",
   "mimetype": "text/x-python",
   "name": "python",
   "nbconvert_exporter": "python",
   "pygments_lexer": "ipython3",
   "version": "3.7.4"
  }
 },
 "nbformat": 4,
 "nbformat_minor": 2
}
