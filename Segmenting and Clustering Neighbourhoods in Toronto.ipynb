{
 "cells": [
  {
   "cell_type": "markdown",
   "metadata": {},
   "source": [
    "<h1 align=center><font size = 5>Segmenting and Clustering Neighbourhoods in Toronto</font></h1>"
   ]
  },
  {
   "cell_type": "markdown",
   "metadata": {},
   "source": [
    "The notebook obtains Toronto neighborhoods data from https://en.wikipedia.org/wiki/List_of_postal_codes_of_Canada:_M and \n",
    "converts addresses into their equivalent latitude and longitude values and generate maps to visualze neighbourhoods."
   ]
  },
  {
   "cell_type": "markdown",
   "metadata": {},
   "source": [
    "#### Import dependencies and libraries"
   ]
  },
  {
   "cell_type": "code",
   "execution_count": 1,
   "metadata": {},
   "outputs": [],
   "source": [
    "import pandas as pd\n",
    "import requests\n",
    "from bs4 import BeautifulSoup\n",
    "\n",
    "#!conda install -c conda-forge geopy --yes # uncomment this line if you haven't completed the Foursquare API lab\n",
    "from geopy.geocoders import Nominatim # convert an address into latitude and longitude values\n",
    "# Matplotlib and associated plotting modules\n",
    "import matplotlib.cm as cm\n",
    "import matplotlib.colors as colors\n",
    "\n",
    "# import k-means from clustering stage\n",
    "from sklearn.cluster import KMeans\n",
    "\n",
    "#!conda install -c conda-forge folium=0.5.0 --yes # uncomment this line if you haven't completed the Foursquare API lab\n",
    "import folium # map rendering library"
   ]
  },
  {
   "cell_type": "markdown",
   "metadata": {},
   "source": [
    "#### Download and Explore Dataset"
   ]
  },
  {
   "cell_type": "markdown",
   "metadata": {},
   "source": [
    "scraping list of postal codes of canada"
   ]
  },
  {
   "cell_type": "code",
   "execution_count": 2,
   "metadata": {},
   "outputs": [],
   "source": [
    "req = requests.get(\"https://en.wikipedia.org/wiki/List_of_postal_codes_of_Canada:_M\")\n",
    "soup = BeautifulSoup(req.content,'lxml')\n",
    "table = soup.find_all('table')[0]\n",
    "neighbourhood_df = pd.read_html(str(table))[0]"
   ]
  },
  {
   "cell_type": "markdown",
   "metadata": {},
   "source": [
    "Only process the cells that have an assigned borough. Ignore cells with a borough that is Not assigned."
   ]
  },
  {
   "cell_type": "code",
   "execution_count": 3,
   "metadata": {},
   "outputs": [],
   "source": [
    "neighbourhood_df = neighbourhood_df[neighbourhood_df.Borough != 'Not assigned']"
   ]
  },
  {
   "cell_type": "markdown",
   "metadata": {},
   "source": [
    "More than one neighborhood can exist in one postal code area. For example, in the table on the Wikipedia page, you will notice that M5A is listed twice and has two neighborhoods: Harbourfront and Regent Park. These two rows will be combined into one row with the neighborhoods separated with a comma as shown in row 11 in the above table."
   ]
  },
  {
   "cell_type": "code",
   "execution_count": 4,
   "metadata": {},
   "outputs": [],
   "source": [
    "neighbourhood_df['Neighbourhood'] = neighbourhood_df.groupby('Postal Code')['Neighbourhood'].transform(lambda x: ','.join(x))\n",
    "neighbourhood_df.drop_duplicates()\n",
    "neighbourhood_df = neighbourhood_df.reset_index().drop(['index'], axis=1)"
   ]
  },
  {
   "cell_type": "code",
   "execution_count": 5,
   "metadata": {
    "scrolled": true
   },
   "outputs": [
    {
     "data": {
      "text/html": [
       "<div>\n",
       "<style scoped>\n",
       "    .dataframe tbody tr th:only-of-type {\n",
       "        vertical-align: middle;\n",
       "    }\n",
       "\n",
       "    .dataframe tbody tr th {\n",
       "        vertical-align: top;\n",
       "    }\n",
       "\n",
       "    .dataframe thead th {\n",
       "        text-align: right;\n",
       "    }\n",
       "</style>\n",
       "<table border=\"1\" class=\"dataframe\">\n",
       "  <thead>\n",
       "    <tr style=\"text-align: right;\">\n",
       "      <th></th>\n",
       "      <th>Postal Code</th>\n",
       "      <th>Borough</th>\n",
       "      <th>Neighbourhood</th>\n",
       "    </tr>\n",
       "  </thead>\n",
       "  <tbody>\n",
       "    <tr>\n",
       "      <td>0</td>\n",
       "      <td>M3A</td>\n",
       "      <td>North York</td>\n",
       "      <td>Parkwoods</td>\n",
       "    </tr>\n",
       "    <tr>\n",
       "      <td>1</td>\n",
       "      <td>M4A</td>\n",
       "      <td>North York</td>\n",
       "      <td>Victoria Village</td>\n",
       "    </tr>\n",
       "    <tr>\n",
       "      <td>2</td>\n",
       "      <td>M5A</td>\n",
       "      <td>Downtown Toronto</td>\n",
       "      <td>Regent Park, Harbourfront</td>\n",
       "    </tr>\n",
       "    <tr>\n",
       "      <td>3</td>\n",
       "      <td>M6A</td>\n",
       "      <td>North York</td>\n",
       "      <td>Lawrence Manor, Lawrence Heights</td>\n",
       "    </tr>\n",
       "    <tr>\n",
       "      <td>4</td>\n",
       "      <td>M7A</td>\n",
       "      <td>Downtown Toronto</td>\n",
       "      <td>Queen's Park, Ontario Provincial Government</td>\n",
       "    </tr>\n",
       "    <tr>\n",
       "      <td>5</td>\n",
       "      <td>M9A</td>\n",
       "      <td>Etobicoke</td>\n",
       "      <td>Islington Avenue, Humber Valley Village</td>\n",
       "    </tr>\n",
       "    <tr>\n",
       "      <td>6</td>\n",
       "      <td>M1B</td>\n",
       "      <td>Scarborough</td>\n",
       "      <td>Malvern, Rouge</td>\n",
       "    </tr>\n",
       "    <tr>\n",
       "      <td>7</td>\n",
       "      <td>M3B</td>\n",
       "      <td>North York</td>\n",
       "      <td>Don Mills</td>\n",
       "    </tr>\n",
       "    <tr>\n",
       "      <td>8</td>\n",
       "      <td>M4B</td>\n",
       "      <td>East York</td>\n",
       "      <td>Parkview Hill, Woodbine Gardens</td>\n",
       "    </tr>\n",
       "    <tr>\n",
       "      <td>9</td>\n",
       "      <td>M5B</td>\n",
       "      <td>Downtown Toronto</td>\n",
       "      <td>Garden District, Ryerson</td>\n",
       "    </tr>\n",
       "    <tr>\n",
       "      <td>10</td>\n",
       "      <td>M6B</td>\n",
       "      <td>North York</td>\n",
       "      <td>Glencairn</td>\n",
       "    </tr>\n",
       "    <tr>\n",
       "      <td>11</td>\n",
       "      <td>M9B</td>\n",
       "      <td>Etobicoke</td>\n",
       "      <td>West Deane Park, Princess Gardens, Martin Grov...</td>\n",
       "    </tr>\n",
       "    <tr>\n",
       "      <td>12</td>\n",
       "      <td>M1C</td>\n",
       "      <td>Scarborough</td>\n",
       "      <td>Rouge Hill, Port Union, Highland Creek</td>\n",
       "    </tr>\n",
       "    <tr>\n",
       "      <td>13</td>\n",
       "      <td>M3C</td>\n",
       "      <td>North York</td>\n",
       "      <td>Don Mills</td>\n",
       "    </tr>\n",
       "    <tr>\n",
       "      <td>14</td>\n",
       "      <td>M4C</td>\n",
       "      <td>East York</td>\n",
       "      <td>Woodbine Heights</td>\n",
       "    </tr>\n",
       "  </tbody>\n",
       "</table>\n",
       "</div>"
      ],
      "text/plain": [
       "   Postal Code           Borough  \\\n",
       "0          M3A        North York   \n",
       "1          M4A        North York   \n",
       "2          M5A  Downtown Toronto   \n",
       "3          M6A        North York   \n",
       "4          M7A  Downtown Toronto   \n",
       "5          M9A         Etobicoke   \n",
       "6          M1B       Scarborough   \n",
       "7          M3B        North York   \n",
       "8          M4B         East York   \n",
       "9          M5B  Downtown Toronto   \n",
       "10         M6B        North York   \n",
       "11         M9B         Etobicoke   \n",
       "12         M1C       Scarborough   \n",
       "13         M3C        North York   \n",
       "14         M4C         East York   \n",
       "\n",
       "                                        Neighbourhood  \n",
       "0                                           Parkwoods  \n",
       "1                                    Victoria Village  \n",
       "2                           Regent Park, Harbourfront  \n",
       "3                    Lawrence Manor, Lawrence Heights  \n",
       "4         Queen's Park, Ontario Provincial Government  \n",
       "5             Islington Avenue, Humber Valley Village  \n",
       "6                                      Malvern, Rouge  \n",
       "7                                           Don Mills  \n",
       "8                     Parkview Hill, Woodbine Gardens  \n",
       "9                            Garden District, Ryerson  \n",
       "10                                          Glencairn  \n",
       "11  West Deane Park, Princess Gardens, Martin Grov...  \n",
       "12             Rouge Hill, Port Union, Highland Creek  \n",
       "13                                          Don Mills  \n",
       "14                                   Woodbine Heights  "
      ]
     },
     "execution_count": 5,
     "metadata": {},
     "output_type": "execute_result"
    }
   ],
   "source": [
    "neighbourhood_df.head(15)"
   ]
  },
  {
   "cell_type": "code",
   "execution_count": 6,
   "metadata": {},
   "outputs": [
    {
     "name": "stdout",
     "output_type": "stream",
     "text": [
      "The dataframe has 10 boroughs and 103 neighbourhoods.\n"
     ]
    }
   ],
   "source": [
    "print('The dataframe has {} boroughs and {} neighbourhoods.'.format(\n",
    "        len(neighbourhood_df['Borough'].unique()),\n",
    "        neighbourhood_df.shape[0]\n",
    "    )\n",
    ")"
   ]
  },
  {
   "cell_type": "markdown",
   "metadata": {},
   "source": [
    "Since geocoder is not reliable, geographical coordinates are loaded from 'http://cocl.us/Geospatial_data'. Then merge coordinates data with postcode_df."
   ]
  },
  {
   "cell_type": "code",
   "execution_count": 7,
   "metadata": {},
   "outputs": [],
   "source": [
    "geospatial_df = pd.read_csv('http://cocl.us/Geospatial_data')\n",
    "neighbourhood_df = neighbourhood_df.merge(geospatial_df, left_on='Postal Code', right_on='Postal Code')"
   ]
  },
  {
   "cell_type": "code",
   "execution_count": 8,
   "metadata": {},
   "outputs": [
    {
     "data": {
      "text/html": [
       "<div>\n",
       "<style scoped>\n",
       "    .dataframe tbody tr th:only-of-type {\n",
       "        vertical-align: middle;\n",
       "    }\n",
       "\n",
       "    .dataframe tbody tr th {\n",
       "        vertical-align: top;\n",
       "    }\n",
       "\n",
       "    .dataframe thead th {\n",
       "        text-align: right;\n",
       "    }\n",
       "</style>\n",
       "<table border=\"1\" class=\"dataframe\">\n",
       "  <thead>\n",
       "    <tr style=\"text-align: right;\">\n",
       "      <th></th>\n",
       "      <th>Postal Code</th>\n",
       "      <th>Borough</th>\n",
       "      <th>Neighbourhood</th>\n",
       "      <th>Latitude</th>\n",
       "      <th>Longitude</th>\n",
       "    </tr>\n",
       "  </thead>\n",
       "  <tbody>\n",
       "    <tr>\n",
       "      <td>0</td>\n",
       "      <td>M3A</td>\n",
       "      <td>North York</td>\n",
       "      <td>Parkwoods</td>\n",
       "      <td>43.753259</td>\n",
       "      <td>-79.329656</td>\n",
       "    </tr>\n",
       "    <tr>\n",
       "      <td>1</td>\n",
       "      <td>M4A</td>\n",
       "      <td>North York</td>\n",
       "      <td>Victoria Village</td>\n",
       "      <td>43.725882</td>\n",
       "      <td>-79.315572</td>\n",
       "    </tr>\n",
       "    <tr>\n",
       "      <td>2</td>\n",
       "      <td>M5A</td>\n",
       "      <td>Downtown Toronto</td>\n",
       "      <td>Regent Park, Harbourfront</td>\n",
       "      <td>43.654260</td>\n",
       "      <td>-79.360636</td>\n",
       "    </tr>\n",
       "    <tr>\n",
       "      <td>3</td>\n",
       "      <td>M6A</td>\n",
       "      <td>North York</td>\n",
       "      <td>Lawrence Manor, Lawrence Heights</td>\n",
       "      <td>43.718518</td>\n",
       "      <td>-79.464763</td>\n",
       "    </tr>\n",
       "    <tr>\n",
       "      <td>4</td>\n",
       "      <td>M7A</td>\n",
       "      <td>Downtown Toronto</td>\n",
       "      <td>Queen's Park, Ontario Provincial Government</td>\n",
       "      <td>43.662301</td>\n",
       "      <td>-79.389494</td>\n",
       "    </tr>\n",
       "  </tbody>\n",
       "</table>\n",
       "</div>"
      ],
      "text/plain": [
       "  Postal Code           Borough                                Neighbourhood  \\\n",
       "0         M3A        North York                                    Parkwoods   \n",
       "1         M4A        North York                             Victoria Village   \n",
       "2         M5A  Downtown Toronto                    Regent Park, Harbourfront   \n",
       "3         M6A        North York             Lawrence Manor, Lawrence Heights   \n",
       "4         M7A  Downtown Toronto  Queen's Park, Ontario Provincial Government   \n",
       "\n",
       "    Latitude  Longitude  \n",
       "0  43.753259 -79.329656  \n",
       "1  43.725882 -79.315572  \n",
       "2  43.654260 -79.360636  \n",
       "3  43.718518 -79.464763  \n",
       "4  43.662301 -79.389494  "
      ]
     },
     "execution_count": 8,
     "metadata": {},
     "output_type": "execute_result"
    }
   ],
   "source": [
    "neighbourhood_df.head()"
   ]
  },
  {
   "cell_type": "markdown",
   "metadata": {},
   "source": [
    "####  Use geopy library to get the latitude and longitude values of Toronto."
   ]
  },
  {
   "cell_type": "code",
   "execution_count": 9,
   "metadata": {},
   "outputs": [
    {
     "name": "stdout",
     "output_type": "stream",
     "text": [
      "The geograpical coordinate of Toronto are 43.6534817, -79.3839347.\n"
     ]
    }
   ],
   "source": [
    "address = 'Toronto, Ontario'\n",
    "\n",
    "geolocator = Nominatim(user_agent=\"toronto_explorer\")\n",
    "location = geolocator.geocode(address)\n",
    "latitude = location.latitude\n",
    "longitude = location.longitude\n",
    "print('The geograpical coordinate of Toronto are {}, {}.'.format(latitude, longitude))"
   ]
  },
  {
   "cell_type": "markdown",
   "metadata": {},
   "source": [
    "#### Get boroughs that contain the word Toronto only"
   ]
  },
  {
   "cell_type": "code",
   "execution_count": 10,
   "metadata": {},
   "outputs": [
    {
     "data": {
      "text/html": [
       "<div>\n",
       "<style scoped>\n",
       "    .dataframe tbody tr th:only-of-type {\n",
       "        vertical-align: middle;\n",
       "    }\n",
       "\n",
       "    .dataframe tbody tr th {\n",
       "        vertical-align: top;\n",
       "    }\n",
       "\n",
       "    .dataframe thead th {\n",
       "        text-align: right;\n",
       "    }\n",
       "</style>\n",
       "<table border=\"1\" class=\"dataframe\">\n",
       "  <thead>\n",
       "    <tr style=\"text-align: right;\">\n",
       "      <th></th>\n",
       "      <th>Postal Code</th>\n",
       "      <th>Borough</th>\n",
       "      <th>Neighbourhood</th>\n",
       "      <th>Latitude</th>\n",
       "      <th>Longitude</th>\n",
       "    </tr>\n",
       "  </thead>\n",
       "  <tbody>\n",
       "    <tr>\n",
       "      <td>2</td>\n",
       "      <td>M5A</td>\n",
       "      <td>Downtown Toronto</td>\n",
       "      <td>Regent Park, Harbourfront</td>\n",
       "      <td>43.654260</td>\n",
       "      <td>-79.360636</td>\n",
       "    </tr>\n",
       "    <tr>\n",
       "      <td>4</td>\n",
       "      <td>M7A</td>\n",
       "      <td>Downtown Toronto</td>\n",
       "      <td>Queen's Park, Ontario Provincial Government</td>\n",
       "      <td>43.662301</td>\n",
       "      <td>-79.389494</td>\n",
       "    </tr>\n",
       "    <tr>\n",
       "      <td>9</td>\n",
       "      <td>M5B</td>\n",
       "      <td>Downtown Toronto</td>\n",
       "      <td>Garden District, Ryerson</td>\n",
       "      <td>43.657162</td>\n",
       "      <td>-79.378937</td>\n",
       "    </tr>\n",
       "    <tr>\n",
       "      <td>15</td>\n",
       "      <td>M5C</td>\n",
       "      <td>Downtown Toronto</td>\n",
       "      <td>St. James Town</td>\n",
       "      <td>43.651494</td>\n",
       "      <td>-79.375418</td>\n",
       "    </tr>\n",
       "    <tr>\n",
       "      <td>19</td>\n",
       "      <td>M4E</td>\n",
       "      <td>East Toronto</td>\n",
       "      <td>The Beaches</td>\n",
       "      <td>43.676357</td>\n",
       "      <td>-79.293031</td>\n",
       "    </tr>\n",
       "  </tbody>\n",
       "</table>\n",
       "</div>"
      ],
      "text/plain": [
       "   Postal Code           Borough                                Neighbourhood  \\\n",
       "2          M5A  Downtown Toronto                    Regent Park, Harbourfront   \n",
       "4          M7A  Downtown Toronto  Queen's Park, Ontario Provincial Government   \n",
       "9          M5B  Downtown Toronto                     Garden District, Ryerson   \n",
       "15         M5C  Downtown Toronto                               St. James Town   \n",
       "19         M4E      East Toronto                                  The Beaches   \n",
       "\n",
       "     Latitude  Longitude  \n",
       "2   43.654260 -79.360636  \n",
       "4   43.662301 -79.389494  \n",
       "9   43.657162 -79.378937  \n",
       "15  43.651494 -79.375418  \n",
       "19  43.676357 -79.293031  "
      ]
     },
     "execution_count": 10,
     "metadata": {},
     "output_type": "execute_result"
    }
   ],
   "source": [
    "toronto_neighbourhood = neighbourhood_df[neighbourhood_df['Borough'].str.contains('Toronto')]\n",
    "toronto_neighbourhood.head()"
   ]
  },
  {
   "cell_type": "markdown",
   "metadata": {},
   "source": [
    "#### Create a map of Toronto with neighborhoods superimposed on top."
   ]
  },
  {
   "cell_type": "code",
   "execution_count": 11,
   "metadata": {},
   "outputs": [
    {
     "data": {
      "text/html": [
       "<div style=\"width:100%;\"><div style=\"position:relative;width:100%;height:0;padding-bottom:60%;\"><span style=\"color:#565656\">Make this Notebook Trusted to load map: File -> Trust Notebook</span><iframe src=\"about:blank\" style=\"position:absolute;width:100%;height:100%;left:0;top:0;border:none !important;\" data-html=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 onload=\"this.contentDocument.open();this.contentDocument.write(atob(this.getAttribute('data-html')));this.contentDocument.close();\" allowfullscreen webkitallowfullscreen mozallowfullscreen></iframe></div></div>"
      ],
      "text/plain": [
       "<folium.folium.Map at 0x2cd7c8edf88>"
      ]
     },
     "execution_count": 11,
     "metadata": {},
     "output_type": "execute_result"
    }
   ],
   "source": [
    "# create map of Toronto using latitude and longitude values\n",
    "map_toronto = folium.Map(location=[latitude, longitude], zoom_start=10)\n",
    "\n",
    "# add markers to map\n",
    "for lat, lng, borough, neighbourhood in zip(toronto_neighbourhood['Latitude'], toronto_neighbourhood['Longitude'], toronto_neighbourhood['Borough'], toronto_neighbourhood['Neighbourhood']):\n",
    "    label = '{}, {}'.format(neighbourhood, borough)\n",
    "    label = folium.Popup(label, parse_html=True)\n",
    "    folium.CircleMarker(\n",
    "        [lat, lng],\n",
    "        radius=5,\n",
    "        popup=label,\n",
    "        color='blue',\n",
    "        fill=True,\n",
    "        fill_color='#3186cc',\n",
    "        fill_opacity=0.7,\n",
    "        parse_html=False).add_to(map_toronto)  \n",
    "    \n",
    "map_toronto"
   ]
  },
  {
   "cell_type": "code",
   "execution_count": null,
   "metadata": {},
   "outputs": [],
   "source": []
  }
 ],
 "metadata": {
  "kernelspec": {
   "display_name": "Python 3",
   "language": "python",
   "name": "python3"
  },
  "language_info": {
   "codemirror_mode": {
    "name": "ipython",
    "version": 3
   },
   "file_extension": ".py",
   "mimetype": "text/x-python",
   "name": "python",
   "nbconvert_exporter": "python",
   "pygments_lexer": "ipython3",
   "version": "3.7.4"
  }
 },
 "nbformat": 4,
 "nbformat_minor": 2
}
